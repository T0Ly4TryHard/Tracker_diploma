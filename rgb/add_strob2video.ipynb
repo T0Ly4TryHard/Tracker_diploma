{
 "cells": [
  {
   "cell_type": "code",
   "execution_count": 5,
   "metadata": {},
   "outputs": [],
   "source": [
    "import cv2\n",
    "import numpy as np"
   ]
  },
  {
   "cell_type": "code",
   "execution_count": 6,
   "metadata": {},
   "outputs": [
    {
     "name": "stdout",
     "output_type": "stream",
     "text": [
      "Frame Width: 1280, Frame Height: 720, FPS: 53.56825650590638, Frame Count: 4825\n",
      "Video processing complete. Output saved as ./data_test/output_annotated_video.avi\n"
     ]
    }
   ],
   "source": [
    "def load_coordinates(file_path):\n",
    "    coords = []\n",
    "    with open(file_path, 'r') as file:\n",
    "        for line in file:\n",
    "            n,x, y, w, h = map(float, line.strip().split())\n",
    "            coords.append((x, y, w, h))\n",
    "    return np.array(coords)\n",
    "\n",
    "def draw_annotations(frame, coords, frame_width, frame_height,color):\n",
    "    x, y, w, h = coords\n",
    "    x1, y1 = int(x * frame_width), int(y * frame_height)\n",
    "    x2, y2 = int((x + w) * frame_width), int((y + h) * frame_height)\n",
    "    cv2.rectangle(frame, (x1, y1), (x2, y2), color, 2)\n",
    "    return frame\n",
    "\n",
    "def main():\n",
    "    annotation_file = './data_test/1074/g1.txt'\n",
    "    result_file = './data_test/1074/g1_vit.txt'\n",
    "\n",
    "    input_video_file = './data_test/1074.mp4'\n",
    "    output_video_file = './data_test/output_annotated_video.avi'\n",
    "\n",
    "    annotations = load_coordinates(annotation_file)\n",
    "    annotations_result = load_coordinates(result_file)\n",
    "\n",
    "    vid = cv2.VideoCapture(input_video_file)\n",
    "\n",
    "    if not vid.isOpened():\n",
    "        print(f\"Error: Could not open video file {input_video_file}\")\n",
    "        return\n",
    "\n",
    "    frame_width = int(vid.get(cv2.CAP_PROP_FRAME_WIDTH))\n",
    "    frame_height = int(vid.get(cv2.CAP_PROP_FRAME_HEIGHT))\n",
    "    frame_fps = vid.get(cv2.CAP_PROP_FPS)\n",
    "    frame_count = int(vid.get(cv2.CAP_PROP_FRAME_COUNT))\n",
    "\n",
    "    print(f\"Frame Width: {frame_width}, Frame Height: {frame_height}, FPS: {frame_fps}, Frame Count: {frame_count}\")\n",
    "\n",
    "    fourcc = cv2.VideoWriter_fourcc(*'XVID')\n",
    "    out = cv2.VideoWriter(output_video_file, fourcc, frame_fps, (frame_width, frame_height))\n",
    "\n",
    "    if not out.isOpened():\n",
    "        print(f\"Error: Could not open video writer for file {output_video_file}\")\n",
    "        return\n",
    "\n",
    "    frame_idx = 0\n",
    "    while True:\n",
    "        ret, frame = vid.read()\n",
    "        if not ret:\n",
    "            break\n",
    "        if frame_idx < len(annotations):\n",
    "            frame = draw_annotations(frame, annotations[frame_idx], frame_width, frame_height,(0,255,255))\n",
    "            \n",
    "        if frame_idx < len(annotations_result):\n",
    "            frame = draw_annotations(frame, annotations_result[frame_idx], frame_width, frame_height,(255,0,0))\n",
    "            \n",
    "        cv2.imshow('data',frame)\n",
    "        key = cv2.waitKey(1)\n",
    "        if key == ord('q'):\n",
    "                break\n",
    "        r = cv2.waitKey(1)\n",
    "            \n",
    "        out.write(frame)\n",
    "        frame_idx += 1\n",
    "\n",
    "    vid.release()\n",
    "    out.release()\n",
    "    cv2.destroyAllWindows()\n",
    "\n",
    "    print(f\"Video processing complete. Output saved as {output_video_file}\")\n",
    "\n",
    "if __name__ == \"__main__\":\n",
    "    main()"
   ]
  },
  {
   "cell_type": "code",
   "execution_count": null,
   "metadata": {},
   "outputs": [],
   "source": []
  },
  {
   "cell_type": "code",
   "execution_count": null,
   "metadata": {},
   "outputs": [],
   "source": []
  }
 ],
 "metadata": {
  "kernelspec": {
   "display_name": "tensorrt",
   "language": "python",
   "name": "python3"
  },
  "language_info": {
   "codemirror_mode": {
    "name": "ipython",
    "version": 3
   },
   "file_extension": ".py",
   "mimetype": "text/x-python",
   "name": "python",
   "nbconvert_exporter": "python",
   "pygments_lexer": "ipython3",
   "version": "3.10.11"
  }
 },
 "nbformat": 4,
 "nbformat_minor": 2
}
